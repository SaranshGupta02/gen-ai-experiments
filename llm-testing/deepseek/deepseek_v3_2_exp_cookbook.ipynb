{
 "cells": [
  {
   "cell_type": "markdown",
   "metadata": {},
   "source": [
    "<img src=\"https://drive.google.com/uc?export=view&id=1wYSMgJtARFdvTt5g7E20mE4NmwUFUuog\" width=\"200\">\n",
    "\n",
    "[![Gen AI Experiments](https://img.shields.io/badge/Gen%20AI%20Experiments-GenAI%20Bootcamp-blue?style=for-the-badge&logo=artificial-intelligence)](https://github.com/buildfastwithai/gen-ai-experiments)\n",
    "[![Gen AI Experiments GitHub](https://img.shields.io/github/stars/buildfastwithai/gen-ai-experiments?style=for-the-badge&logo=github&color=gold)](http://github.com/buildfastwithai/gen-ai-experiments)\n",
    "\n",
    "[![Open In Colab](https://colab.research.google.com/assets/colab-badge.svg)](https://colab.research.google.com/drive/1MZNx2xpWKy4wmGSHHsvAXnUGUnaFTU_C?usp=sharing)\n",
    "\n",
    "# DeepSeek V3.2 Experimental - Simple Usage Guide\n",
    "\n",
    "This notebook demonstrates basic usage of the DeepSeek V3.2 Experimental model with simple prompts and examples.\n",
    "\n",
    "## Master Generative AI in 8 Weeks\n",
    "**What You'll Learn:**\n",
    "- Master cutting-edge AI tools & frameworks\n",
    "- 6 weeks of hands-on, project-based learning\n",
    "- Weekly live mentorship sessions\n",
    "\n",
    "[Start Your Journey](https://www.buildfastwithai.com/genai-course)"
   ]
  },
  {
   "cell_type": "markdown",
   "metadata": {},
   "source": [
    "## Installation and Setup\n",
    "\n",
    "First, install the required dependencies:"
   ]
  },
  {
   "cell_type": "code",
   "execution_count": null,
   "metadata": {},
   "outputs": [],
   "source": [
    "!pip install langchain-openai"
   ]
  },
  {
   "cell_type": "markdown",
   "metadata": {},
   "source": [
    "## Model Initialization\n",
    "\n",
    "Set up the DeepSeek V3.2 Experimental model using ChatOpenAI and OpenRouter:"
   ]
  },
  {
   "cell_type": "code",
   "execution_count": null,
   "metadata": {},
   "outputs": [],
   "source": [
    "from langchain_openai import ChatOpenAI\n",
    "\n",
    "# Get your API key from OpenRouter\n",
    "api_key = \"YOUR_OPENROUTER_API_KEY\"  # Replace with your actual API key\n",
    "\n",
    "# Initialize DeepSeek V3.2 Experimental\n",
    "deepseek_v3_2_exp = ChatOpenAI(\n",
    "    model=\"deepseek/deepseek-v3.2-exp\",\n",
    "    openai_api_key=api_key,\n",
    "    openai_api_base=\"https://openrouter.ai/api/v1\"\n",
    ")"
   ]
  },
  {
   "cell_type": "markdown",
   "metadata": {},
   "source": [
    "## Simple Usage Examples\n",
    "\n",
    "Let's test the model with some basic prompts:"
   ]
  },
  {
   "cell_type": "code",
   "execution_count": null,
   "metadata": {},
   "outputs": [],
   "source": [
    "# Test 1: Basic introduction\n",
    "response = deepseek_v3_2_exp.invoke(\"Who developed you and what are your key capabilities?\")\n",
    "print(\"🤖 Model Introduction:\")\n",
    "print(\"=\" * 40)\n",
    "print(response.content)"
   ]
  },
  {
   "cell_type": "code",
   "execution_count": null,
   "metadata": {},
   "outputs": [],
   "source": [
    "# Test 2: Creative writing\n",
    "prompt = \"\"\"\n",
    "Write a short, inspiring story about a young entrepreneur who starts a small business \n",
    "from their garage and overcomes initial challenges. Keep it under 200 words.\n",
    "\"\"\"\n",
    "\n",
    "response = deepseek_v3_2_exp.invoke(prompt)\n",
    "print(\"✨ Creative Writing Example:\")\n",
    "print(\"=\" * 40)\n",
    "print(response.content)"
   ]
  },
  {
   "cell_type": "code",
   "execution_count": null,
   "metadata": {},
   "outputs": [],
   "source": [
    "# Test 3: Educational explanation\n",
    "prompt = \"\"\"\n",
    "Explain the concept of renewable energy to a 10-year-old. \n",
    "Use simple examples and make it engaging and easy to understand.\n",
    "\"\"\"\n",
    "\n",
    "response = deepseek_v3_2_exp.invoke(prompt)\n",
    "print(\"🎓 Educational Content Example:\")\n",
    "print(\"=\" * 40)\n",
    "print(response.content)"
   ]
  },
  {
   "cell_type": "code",
   "execution_count": null,
   "metadata": {},
   "outputs": [],
   "source": [
    "# Test 4: Planning and organization\n",
    "prompt = \"\"\"\n",
    "Help me plan a weekend camping trip for 4 friends. \n",
    "Include a checklist of essential items, suggested activities, \n",
    "and tips for a successful outdoor experience.\n",
    "\"\"\"\n",
    "\n",
    "response = deepseek_v3_2_exp.invoke(prompt)\n",
    "print(\"🏕️ Planning Example:\")\n",
    "print(\"=\" * 40)\n",
    "print(response.content)"
   ]
  },
  {
   "cell_type": "code",
   "execution_count": null,
   "metadata": {},
   "outputs": [],
   "source": [
    "# Test 5: Problem solving\n",
    "prompt = \"\"\"\n",
    "I want to start exercising regularly but I'm always too busy or tired after work. \n",
    "Give me practical advice on how to build a sustainable exercise routine.\n",
    "\"\"\"\n",
    "\n",
    "response = deepseek_v3_2_exp.invoke(prompt)\n",
    "print(\"💪 Problem Solving Example:\")\n",
    "print(\"=\" * 40)\n",
    "print(response.content)"
   ]
  }
 ],
 "metadata": {
  "kernelspec": {
   "display_name": "Python 3",
   "language": "python",
   "name": "python3"
  },
  "language_info": {
   "codemirror_mode": {
    "name": "ipython",
    "version": 3
   },
   "file_extension": ".py",
   "name": "python",
   "nbconvert_exporter": "python",
   "pygments_lexer": "ipython3",
   "version": "3.8.5"
  }
 },
 "nbformat": 4,
 "nbformat_minor": 4
}